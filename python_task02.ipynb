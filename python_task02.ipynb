{
 "cells": [
  {
   "cell_type": "markdown",
   "id": "e98e268d-be52-412b-8f01-6202e7d0d417",
   "metadata": {},
   "source": [
    "Q1. You are writing code for a company. The requirement of the company is that you create a python\n",
    "function that will check whether the password entered by the user is correct or not. The function should\n",
    "take the password as input and return the string “Valid Password” if the entered password follows the\n",
    "below-given password guidelines else it should return “Invalid Password”.\n",
    "\n",
    "Ans:\n",
    "     :import re\n",
    "\n",
    "def check_password(password):\n",
    "    # Check if the password contains at least two uppercase letters and two lowercase letters.\n",
    "    if not re.search(r'[A-Z].*[A-Z]', password) or not re.search(r'[a-z].*[a-z]', password):\n",
    "        return \"Invalid Password\"\n",
    "    \n",
    "    # Check if the password contains at least one number and three special characters.\n",
    "    if not re.search(r'\\d', password) or len(re.findall(r'[!@#$%^&*()-_=+{};:,.<>?/|\\\\]', password)) < 3:\n",
    "        return \"Invalid Password\"\n",
    "    \n",
    "    # Check if the password length is exactly 10 characters.\n",
    "    if len(password) != 10:\n",
    "        return \"Invalid Password\"\n",
    "    \n",
    "    return \"Valid Password\"\n",
    "\n",
    "# Test the function with some examples\n",
    "print(check_password(\"Abcdef123#\"))  # Output: Valid Password\n",
    "print(check_password(\"abcDEF123#\"))  # Output: Valid Password\n",
    "print(check_password(\"abcdefghij\"))  # Output: Invalid Password\n",
    "print(check_password(\"Abcdef12345\"))  # Output: Invalid Password\n",
    "\n"
   ]
  },
  {
   "cell_type": "markdown",
   "id": "54af536f-5cc5-4543-9507-cca0e3b17d66",
   "metadata": {},
   "source": [
    "Q2. Solve the below-given questions using at least one of the following:\n",
    "1. Lambda function\n",
    "2. Filter function\n",
    "3. mapfunction\n",
    "4. List Comprehension\n",
    "B Check if the string starts with a particular letter\n",
    "\n",
    "Ans:   starts_with_Y = lambda s: s.startswith('Y')\n",
    "result = starts_with_Y(\"Yellow\")\n",
    "print(result)  # True\n",
    "\n",
    "\n",
    "B Check if the string is numeric.\n",
    "Ans:\n",
    "     def is_numeric(s):\n",
    "    try:\n",
    "        float(s)\n",
    "        return True\n",
    "    except ValueError:\n",
    "        return False\n",
    "\n",
    "strings = [\"123\", \"abc\", \"45.67\", \"xyz\", \"789\"]\n",
    "numeric_strings = list(filter(is_numeric, strings))\n",
    "print(numeric_strings)  # ['123', '45.67', '789']\n",
    "\n",
    "\n",
    "\n",
    "\n",
    "B Sort a list of tuples having fruit names and their quantity. [(\"mango\",99),(\"orange\",80), (\"grapes\", 1000)-\n",
    "Ans: \n",
    "\n",
    "\n",
    "fruits = [(\"mango\", 99), (\"orange\", 80), (\"grapes\", 1000)]\n",
    "sorted_fruits = sorted(fruits, key=lambda x: x[1])  # Sort by quantity\n",
    "print(sorted_fruits)\n",
    "\n",
    "      \n",
    "\n",
    "B Find the squares of numbers from 1 to 10\n",
    "Ans:\n",
    "list(map(lambda x:x**2,list(range(1,11))))  \n",
    "\n",
    "B Find the cube root of numbers from 1 to 10\n",
    "Ans:\n",
    "list(map(lambda x:x**3,list(range(1,11))))  \n",
    "B Check if a given number is even\n",
    "Ans:\n",
    "numbers = [1, 2, 3, 4, 5, 6]\n",
    "\n",
    "# Using list comprehension\n",
    "even_numbers = [x for x in numbers if x % 2 == 0]\n",
    "print(even_numbers)  \n",
    "\n",
    "B Filter odd numbers from the given list.\n",
    "[1,2,3,4,5,6,7,8,9,10-\n",
    "B Sort a list of integers into positive and negative integers lists.\n",
    "[1,2,3,4,5,6,-1,-2,-3,-4,-5,0]\n",
    "\n",
    "Ans:\n",
    "numbers = [1, 2, 3, 4, 5, 6, -1, -2, -3, -4, -5, 0]\n",
    "positive_numbers = [x for x in numbers if x > 0]\n",
    "negative_numbers = [x for x in numbers if x < 0]\n",
    "print(\"Positive:\", positive_numbers)\n",
    "print(\"Negative:\", negative_numbers)\n",
    "\n"
   ]
  },
  {
   "cell_type": "code",
   "execution_count": 1,
   "id": "2eb87501-859d-471e-9d90-edc443425817",
   "metadata": {},
   "outputs": [
    {
     "data": {
      "text/plain": [
       "[2, 4, 6, 8, 10]"
      ]
     },
     "execution_count": 1,
     "metadata": {},
     "output_type": "execute_result"
    }
   ],
   "source": [
    "l=[1,2,3,4,5,6,7,8,9,10]##odd filter\n",
    "list(filter(lambda x:x%2==0,l))\n"
   ]
  },
  {
   "cell_type": "code",
   "execution_count": 2,
   "id": "bd4cdc55-4645-4ff2-ac69-8a19aac3e3e9",
   "metadata": {},
   "outputs": [
    {
     "data": {
      "text/plain": [
       "[1, 4, 9, 16, 25, 36, 49, 64, 81, 100]"
      ]
     },
     "execution_count": 2,
     "metadata": {},
     "output_type": "execute_result"
    }
   ],
   "source": [
    "[i**2 for i in l ]"
   ]
  },
  {
   "cell_type": "code",
   "execution_count": 3,
   "id": "525403c7-df91-4922-9a8b-2639ec5e2299",
   "metadata": {},
   "outputs": [
    {
     "data": {
      "text/plain": [
       "[1, 8, 27, 64, 125, 216, 343, 512, 729, 1000]"
      ]
     },
     "execution_count": 3,
     "metadata": {},
     "output_type": "execute_result"
    }
   ],
   "source": [
    "[i**3 for i in l]"
   ]
  },
  {
   "cell_type": "code",
   "execution_count": 17,
   "id": "f5e82528-95e6-4584-9164-582dff1a08d0",
   "metadata": {},
   "outputs": [
    {
     "ename": "SyntaxError",
     "evalue": "invalid syntax. Perhaps you forgot a comma? (1724431208.py, line 3)",
     "output_type": "error",
     "traceback": [
      "\u001b[0;36m  Cell \u001b[0;32mIn[17], line 3\u001b[0;36m\u001b[0m\n\u001b[0;31m    list(map(lambda x,y:print(x), x>0 and x<0 print(x)  ,p))\u001b[0m\n\u001b[0m                                  ^\u001b[0m\n\u001b[0;31mSyntaxError\u001b[0m\u001b[0;31m:\u001b[0m invalid syntax. Perhaps you forgot a comma?\n"
     ]
    }
   ],
   "source": [
    "p=[1,2,3,4,5,6,-1,-2,-3,-4,-5,0]\n",
    "\n",
    "list(map(lambda x,y:print(x) x>0 and x<0 print(x)  ,p))"
   ]
  },
  {
   "cell_type": "code",
   "execution_count": 5,
   "id": "7bed84dd-c3ec-4b3f-8034-0b3075a6bb0d",
   "metadata": {},
   "outputs": [
    {
     "data": {
      "text/plain": [
       "[True, True, True, True, True, False, False, False, False, False]"
      ]
     },
     "execution_count": 5,
     "metadata": {},
     "output_type": "execute_result"
    }
   ],
   "source": [
    "list(map(lambda x: -5<x<6,l))"
   ]
  },
  {
   "cell_type": "code",
   "execution_count": 6,
   "id": "33cb681f-a55f-414b-95d6-affda2936938",
   "metadata": {},
   "outputs": [],
   "source": [
    "even=lambda x:print(' Giving Number is even') if x%2==0 else print('Giving Number is odd')"
   ]
  },
  {
   "cell_type": "code",
   "execution_count": 7,
   "id": "b98ed69f-5da6-4ea2-bd19-28e7419f9f32",
   "metadata": {},
   "outputs": [
    {
     "name": "stdout",
     "output_type": "stream",
     "text": [
      " Giving Number is even\n"
     ]
    }
   ],
   "source": [
    "even(2)"
   ]
  },
  {
   "cell_type": "code",
   "execution_count": null,
   "id": "68c8773a-444b-4300-ac80-b2549167d2d4",
   "metadata": {},
   "outputs": [],
   "source": [
    "B Check if the string starts with a particular letterY\n",
    "B Check if the string is numericY\n",
    "Ans: \n",
    "B Sort a list of tuples having fruit names and their quantity. [(\"mango\",99),(\"orange\",80), (\"grapes\", 1000)-\n",
    "  Ans:                                                              \n",
    "B Find the squares of numbers from 1 to 10Y\n",
    "Ans: list(map(lambda x:x**2,list(range(1,11))))                                                               \n",
    "B Find the cube root of numbers from 1 to 10Y\n",
    " Ans: list(map(lambda x:x**3,list(range(1,11))))                                                  \n",
    "B Check if a given number is even.\n",
    "Ans:                                                                \n",
    "B Filter odd numbers from the given list.\n",
    "[1,2,3,4,5,6,7,8,9,10]\n",
    " Ans: list(filter(lambda x: x%2!=0 ,list(range(1,11))))                                                              \n",
    "B Sort a list of integers into positive and negative integers lists.\n",
    "[1,2,3,4,5,6,-1,-2,-3,-4,-5,0]\n",
    "Ans:                                                                "
   ]
  },
  {
   "cell_type": "code",
   "execution_count": 17,
   "id": "3d7acab4-12e6-45f4-9304-e210866273ed",
   "metadata": {},
   "outputs": [
    {
     "ename": "SyntaxError",
     "evalue": "invalid syntax (1409758730.py, line 1)",
     "output_type": "error",
     "traceback": [
      "\u001b[0;36m  Cell \u001b[0;32mIn[17], line 1\u001b[0;36m\u001b[0m\n\u001b[0;31m    list(map(lambda x:  print('even') , x%2==0 if  ,int(input('Enter the number'))))\u001b[0m\n\u001b[0m                                                   ^\u001b[0m\n\u001b[0;31mSyntaxError\u001b[0m\u001b[0;31m:\u001b[0m invalid syntax\n"
     ]
    }
   ],
   "source": [
    "list(map(lambda x:x%2==0 if  ,int(input('Enter the number'))))"
   ]
  },
  {
   "cell_type": "code",
   "execution_count": 10,
   "id": "d2bff395-db53-4b01-874a-dd1a8b02e7c1",
   "metadata": {},
   "outputs": [
    {
     "data": {
      "text/plain": [
       "[1, 3, 5, 7, 9]"
      ]
     },
     "execution_count": 10,
     "metadata": {},
     "output_type": "execute_result"
    }
   ],
   "source": [
    "list(filter(lambda x: x%2!=0 ,list(range(1,11))))"
   ]
  },
  {
   "cell_type": "code",
   "execution_count": 20,
   "id": "b265600f-dbc8-413d-924a-362f04c97459",
   "metadata": {},
   "outputs": [],
   "source": [
    "o=[1,2,3,4,5,6,-1,-2,-3,-4,-5,0]"
   ]
  },
  {
   "cell_type": "code",
   "execution_count": 25,
   "id": "6bb0b2b4-6a75-4dfc-8185-32718fb457e0",
   "metadata": {},
   "outputs": [],
   "source": [
    "from functools import reduce"
   ]
  },
  {
   "cell_type": "code",
   "execution_count": 27,
   "id": "6bf0f1f9-9687-4bbb-a22f-090ff24dba5d",
   "metadata": {},
   "outputs": [
    {
     "ename": "TypeError",
     "evalue": "list.append() takes exactly one argument (0 given)",
     "output_type": "error",
     "traceback": [
      "\u001b[0;31m---------------------------------------------------------------------------\u001b[0m",
      "\u001b[0;31mTypeError\u001b[0m                                 Traceback (most recent call last)",
      "Cell \u001b[0;32mIn[27], line 1\u001b[0m\n\u001b[0;32m----> 1\u001b[0m \u001b[38;5;28mlist\u001b[39m(reduce(\u001b[43mpos_1\u001b[49m\u001b[43m(\u001b[49m\u001b[43mo\u001b[49m\u001b[43m)\u001b[49m,o))\n",
      "Cell \u001b[0;32mIn[19], line 8\u001b[0m, in \u001b[0;36mpos_1\u001b[0;34m(l)\u001b[0m\n\u001b[1;32m      6\u001b[0m         l1\u001b[38;5;241m.\u001b[39mappend()\n\u001b[1;32m      7\u001b[0m     \u001b[38;5;28;01melse\u001b[39;00m:\n\u001b[0;32m----> 8\u001b[0m         \u001b[43ml2\u001b[49m\u001b[38;5;241;43m.\u001b[39;49m\u001b[43mappend\u001b[49m\u001b[43m(\u001b[49m\u001b[43m)\u001b[49m\n\u001b[1;32m      9\u001b[0m l1,l2\n",
      "\u001b[0;31mTypeError\u001b[0m: list.append() takes exactly one argument (0 given)"
     ]
    }
   ],
   "source": [
    "list(reduce(pos_1(o),o))"
   ]
  },
  {
   "cell_type": "code",
   "execution_count": 19,
   "id": "ad433099-8f59-4622-a267-384b3cc9fce4",
   "metadata": {},
   "outputs": [],
   "source": [
    "def pos_1(l):\n",
    "    l1=[]\n",
    "    l2=[]\n",
    "    for  i in l:\n",
    "        if i<0:\n",
    "            l1.append()\n",
    "        else:\n",
    "            l2.append()\n",
    "    l1,l2      "
   ]
  },
  {
   "cell_type": "code",
   "execution_count": null,
   "id": "70d80d2e-3d6d-4516-8fdc-cb05d4f5ba8f",
   "metadata": {},
   "outputs": [],
   "source": []
  }
 ],
 "metadata": {
  "kernelspec": {
   "display_name": "Python 3 (ipykernel)",
   "language": "python",
   "name": "python3"
  },
  "language_info": {
   "codemirror_mode": {
    "name": "ipython",
    "version": 3
   },
   "file_extension": ".py",
   "mimetype": "text/x-python",
   "name": "python",
   "nbconvert_exporter": "python",
   "pygments_lexer": "ipython3",
   "version": "3.10.8"
  }
 },
 "nbformat": 4,
 "nbformat_minor": 5
}
